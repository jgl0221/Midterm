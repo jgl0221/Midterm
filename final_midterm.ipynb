{
  "nbformat": 4,
  "nbformat_minor": 0,
  "metadata": {
    "colab": {
      "provenance": []
    },
    "kernelspec": {
      "name": "python3",
      "display_name": "Python 3"
    },
    "language_info": {
      "name": "python"
    }
  },
  "cells": [
    {
      "cell_type": "code",
      "source": [
        "from google.colab import drive\n",
        "drive.mount('/content/drive')"
      ],
      "metadata": {
        "colab": {
          "base_uri": "https://localhost:8080/"
        },
        "id": "LChE5HFukER-",
        "outputId": "2127d5d4-63a9-454c-a80f-2ef6a52146dd"
      },
      "execution_count": 1,
      "outputs": [
        {
          "output_type": "stream",
          "name": "stdout",
          "text": [
            "Mounted at /content/drive\n"
          ]
        }
      ]
    },
    {
      "cell_type": "code",
      "execution_count": 12,
      "metadata": {
        "colab": {
          "base_uri": "https://localhost:8080/",
          "height": 1000
        },
        "id": "hF0pzGaEj010",
        "outputId": "d03d72dc-1b74-4e25-c834-bcc0515906a8"
      },
      "outputs": [
        {
          "output_type": "stream",
          "name": "stdout",
          "text": [
            "train.csv shape is  (1697533, 9)\n",
            "test.csv shape is  (212192, 2)\n",
            "\n",
            "        Id   ProductId          UserId  HelpfulnessNumerator  \\\n",
            "0   914403  B0009W5KHM   AV6QDP8Q0ONK4                     2   \n",
            "1   354887  6303079709  A2I8RXJN80A2D2                     0   \n",
            "2  1407653  B004H0M2XC  A3FHV3RV8Z12E6                     0   \n",
            "3  1377458  B003ZJ9536  A12VLTA3ZHVPUY                     1   \n",
            "4   475323  630574453X  A13NM1PES9OXVN                     2   \n",
            "\n",
            "   HelpfulnessDenominator        Time  \\\n",
            "0                       2  1341014400   \n",
            "1                       0  1168819200   \n",
            "2                       0  1386201600   \n",
            "3                       1  1348704000   \n",
            "4                       3   970012800   \n",
            "\n",
            "                                         Summary  \\\n",
            "0                                  GOOD FUN FILM   \n",
            "1                                   Movie Review   \n",
            "2             When is it a good time to Consent?   \n",
            "3                                          TRUTH   \n",
            "4  Intelligent and bittersweet -- stays with you   \n",
            "\n",
            "                                                Text  Score  \n",
            "0  While most straight to DVD films are not worth...    5.0  \n",
            "1  I have wanted this one for sometime, also.  I ...    5.0  \n",
            "2  Actually this was a pretty darn good indie fil...    4.0  \n",
            "3  Episodes 37 to 72 of the series press on in a ...    5.0  \n",
            "4  I was really impressed with this movie, but wa...    3.0  \n",
            "\n",
            "        Id  Score\n",
            "0  1323432    NaN\n",
            "1  1137299    NaN\n",
            "2  1459366    NaN\n",
            "3   931601    NaN\n",
            "4  1311995    NaN\n",
            "\n",
            "                 Id  HelpfulnessNumerator  HelpfulnessDenominator  \\\n",
            "count  1.697533e+06          1.697533e+06            1.697533e+06   \n",
            "mean   8.487660e+05          3.569048e+00            5.301422e+00   \n",
            "std    4.900357e+05          1.727883e+01            2.024445e+01   \n",
            "min    0.000000e+00          0.000000e+00            0.000000e+00   \n",
            "25%    4.243830e+05          0.000000e+00            0.000000e+00   \n",
            "50%    8.487660e+05          1.000000e+00            1.000000e+00   \n",
            "75%    1.273149e+06          3.000000e+00            5.000000e+00   \n",
            "max    1.697532e+06          6.084000e+03            6.510000e+03   \n",
            "\n",
            "               Time         Score  \n",
            "count  1.697533e+06  1.485341e+06  \n",
            "mean   1.262422e+09  4.110517e+00  \n",
            "std    1.289277e+08  1.197651e+00  \n",
            "min    8.793792e+08  1.000000e+00  \n",
            "25%    1.164413e+09  4.000000e+00  \n",
            "50%    1.307491e+09  5.000000e+00  \n",
            "75%    1.373242e+09  5.000000e+00  \n",
            "max    1.406074e+09  5.000000e+00  \n"
          ]
        },
        {
          "output_type": "display_data",
          "data": {
            "text/plain": [
              "<Figure size 640x480 with 1 Axes>"
            ],
            "image/png": "[encoded data removed]"
          },
          "metadata": {}
        },
        {
          "output_type": "stream",
          "name": "stdout",
          "text": [
            "\n",
            "EVERYTHING IS PROPERLY SET UP! YOU ARE READY TO START\n"
          ]
        },
        {
          "output_type": "stream",
          "name": "stderr",
          "text": [
            "/usr/local/lib/python3.10/dist-packages/sklearn/base.py:486: UserWarning: X has feature names, but RandomForestClassifier was fitted without feature names\n",
            "  warnings.warn(\n"
          ]
        }
      ],
      "source": [
        "import pickle\n",
        "import pandas as pd\n",
        "import seaborn as sns\n",
        "from os.path import exists\n",
        "import matplotlib.pyplot as plt\n",
        "from sklearn.ensemble import RandomForestClassifier\n",
        "from sklearn.model_selection import train_test_split\n",
        "from sklearn.metrics import accuracy_score, confusion_matrix\n",
        "from textblob import TextBlob\n",
        "from sklearn.preprocessing import MinMaxScaler\n",
        "from sklearn.decomposition import TruncatedSVD\n",
        "from sklearn.feature_extraction.text import TfidfVectorizer\n",
        "\n",
        "# Loading the Files\n",
        "trainingSet = pd.read_csv(\"/content/drive/MyDrive/cs506midterm/train.csv\")\n",
        "testingSet = pd.read_csv(\"/content/drive/MyDrive/cs506midterm/test.csv\")\n",
        "\n",
        "print(\"train.csv shape is \", trainingSet.shape)\n",
        "print(\"test.csv shape is \", testingSet.shape)\n",
        "print()\n",
        "print(trainingSet.head())\n",
        "print()\n",
        "print(testingSet.head())\n",
        "print()\n",
        "print(trainingSet.describe())\n",
        "\n",
        "trainingSet['Score'].value_counts().plot(kind='bar', legend=True, alpha=.5)\n",
        "plt.show()\n",
        "\n",
        "print(\"\\nEVERYTHING IS PROPERLY SET UP! YOU ARE READY TO START\")\n",
        "\n",
        "# Adding Features\n",
        "def add_features_to(df):\n",
        "    # Basic feature extraction\n",
        "    df['Helpfulness'] = df['HelpfulnessNumerator'] / df['HelpfulnessDenominator']\n",
        "    df['Helpfulness'] = df['Helpfulness'].fillna(0)\n",
        "\n",
        "    # Review length\n",
        "    if 'Text' in df.columns:\n",
        "        df['ReviewLength'] = df['Text'].apply(lambda x: len(str(x)))\n",
        "        df['WordCount'] = df['Text'].apply(lambda x: len(str(x).split()))\n",
        "\n",
        "        # Sentiment analysis (polarity and subjectivity)\n",
        "        df['SentimentPolarity'] = df['Text'].apply(lambda x: TextBlob(str(x)).sentiment.polarity)\n",
        "        df['SentimentSubjectivity'] = df['Text'].apply(lambda x: TextBlob(str(x)).sentiment.subjectivity)\n",
        "\n",
        "    return df\n",
        "\n",
        "# Load the feature extracted files if they've already been generated\n",
        "if exists('/content/drive/MyDrive/cs506midterm/X_train.csv'):\n",
        "    X_train = pd.read_csv(\"/content/drive/MyDrive/cs506midterm/X_train.csv\")\n",
        "    X_submission = pd.read_csv(\"/content/drive/MyDrive/cs506midterm/X_submission.csv\")\n",
        "else:\n",
        "    # Process the DataFrame with sampling to reduce memory usage\n",
        "    train = trainingSet.sample(frac=0.05, random_state=42)  # Use 5% of the data for processing to reduce runtime\n",
        "    train = add_features_to(train)\n",
        "\n",
        "    # Merge on Id so that the submission set can have feature columns as well\n",
        "    X_submission = pd.merge(train, testingSet, left_on='Id', right_on='Id', how='right')\n",
        "    X_submission = X_submission.drop(columns=['Score_x'])\n",
        "    X_submission = X_submission.rename(columns={'Score_y': 'Score'})\n",
        "\n",
        "    # The training set is where the score is not null\n",
        "    X_train = train[train['Score'].notnull()]\n",
        "\n",
        "    # Save the processed data for future use\n",
        "    X_submission.to_csv(\"/content/drive/MyDrive/cs506midterm/X_submission.csv\", index=False)\n",
        "    X_train.to_csv(\"/content/drive/MyDrive/cs506midterm/X_train.csv\", index=False)\n",
        "\n",
        "# Store the target variable 'Score' before transformations\n",
        "Y_train = X_train['Score']\n",
        "Y_submission = X_submission['Score']\n",
        "\n",
        "# Drop 'Score' column from features\n",
        "X_train = X_train.drop(columns=['Score'])\n",
        "X_submission = X_submission.drop(columns=['Score'])\n",
        "\n",
        "# Sample and Split into Training and Testing Set\n",
        "\n",
        "# Apply TF-IDF and Latent Semantic Analysis (LSA) to the text column\n",
        "if 'Text' in X_train.columns:\n",
        "    tfidf_vectorizer = TfidfVectorizer(max_features=500, stop_words='english')  # Reduce max_features to 500 to save time\n",
        "    X_train_text_tfidf = tfidf_vectorizer.fit_transform(X_train['Text'].fillna(''))\n",
        "    X_submission_text_tfidf = tfidf_vectorizer.transform(X_submission['Text'].fillna(''))\n",
        "\n",
        "    # Apply LSA (using TruncatedSVD) to reduce dimensionality\n",
        "    lsa = TruncatedSVD(n_components=50, random_state=42)  # Reduce n_components to 50 to save time\n",
        "    X_train_text_lsa = lsa.fit_transform(X_train_text_tfidf)\n",
        "    X_submission_text_lsa = lsa.transform(X_submission_text_tfidf)\n",
        "\n",
        "    # Convert LSA features to DataFrame and add to original features\n",
        "    lsa_columns = [f'LSA_{i}' for i in range(lsa.n_components)]\n",
        "    X_train_text_lsa_df = pd.DataFrame(X_train_text_lsa, columns=lsa_columns, index=X_train.index)\n",
        "    X_submission_text_lsa_df = pd.DataFrame(X_submission_text_lsa, columns=lsa_columns, index=X_submission.index)\n",
        "\n",
        "    # Concatenate LSA features with other features\n",
        "    X_train = pd.concat([X_train, X_train_text_lsa_df], axis=1)\n",
        "    X_submission = pd.concat([X_submission, X_submission_text_lsa_df], axis=1)\n",
        "\n",
        "# Feature Selection\n",
        "features = [\n",
        "    col for col in X_train.columns if col in [\n",
        "        'HelpfulnessNumerator', 'HelpfulnessDenominator', 'Time', 'Helpfulness',\n",
        "        'ReviewLength', 'WordCount', 'SentimentPolarity', 'SentimentSubjectivity'\n",
        "    ] + lsa_columns\n",
        "]\n",
        "\n",
        "# Apply Min-Max Scaling to the features\n",
        "scaler = MinMaxScaler()\n",
        "X_train_select = X_train[features]\n",
        "X_submission_select = X_submission[features]\n",
        "\n",
        "X_train_scaled = scaler.fit_transform(X_train_select)\n",
        "X_submission_scaled = scaler.transform(X_submission_select)\n",
        "\n",
        "# Model Creation\n",
        "# Using Random Forest Classifier\n",
        "model = RandomForestClassifier(n_estimators=50, random_state=42).fit(X_train_scaled, Y_train)  # Reduce n_estimators to 50 to save time\n",
        "\n",
        "\n",
        "# Ensure all NaNs are filled\n",
        "X_submission_scaled = pd.DataFrame(X_submission_scaled, columns=features)\n",
        "X_submission_scaled.fillna(X_submission_scaled.mean(), inplace=True)\n",
        "\n",
        "# Create Submission File\n",
        "X_submission['Score'] = model.predict(X_submission_scaled)\n",
        "submission = X_submission[['Id', 'Score']]\n",
        "submission.to_csv(\"/content/drive/MyDrive/cs506midterm/submission.csv\", index=False)\n"
      ]
    }
  ]
}